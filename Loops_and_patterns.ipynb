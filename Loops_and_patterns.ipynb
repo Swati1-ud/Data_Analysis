{
  "nbformat": 4,
  "nbformat_minor": 0,
  "metadata": {
    "colab": {
      "name": "Loops and patterns.ipynb",
      "provenance": [],
      "collapsed_sections": [],
      "authorship_tag": "ABX9TyN7UJc7a6YsdPnL/hjUwXy0",
      "include_colab_link": true
    },
    "kernelspec": {
      "name": "python3",
      "display_name": "Python 3"
    },
    "language_info": {
      "name": "python"
    }
  },
  "cells": [
    {
      "cell_type": "markdown",
      "metadata": {
        "id": "view-in-github",
        "colab_type": "text"
      },
      "source": [
        "<a href=\"https://colab.research.google.com/github/Swati1-ud/Data_Analysis/blob/main/Loops_and_patterns.ipynb\" target=\"_parent\"><img src=\"https://colab.research.google.com/assets/colab-badge.svg\" alt=\"Open In Colab\"/></a>"
      ]
    },
    {
      "cell_type": "code",
      "execution_count": null,
      "metadata": {
        "colab": {
          "base_uri": "https://localhost:8080/"
        },
        "id": "nYNvIzYWDtLA",
        "outputId": "8c029682-3347-467f-ef3b-4fc40069cb61"
      },
      "outputs": [
        {
          "output_type": "stream",
          "name": "stdout",
          "text": [
            "swati\n"
          ]
        }
      ],
      "source": [
        "a_number = 34\n",
        "\n",
        "if a_number % 2 == 0:\n",
        "  print(\"swati\")"
      ]
    },
    {
      "cell_type": "code",
      "source": [
        "another_number = 33\n",
        "\n",
        "if another_number % 2 == 0:\n",
        "  print('The give number {} is even.' .format(another_number))\n",
        "else : \n",
        "  print('The give number {} is odd.' .format(another_number))"
      ],
      "metadata": {
        "colab": {
          "base_uri": "https://localhost:8080/"
        },
        "id": "McFKfZexHpUT",
        "outputId": "488534d5-4426-46af-bdd5-438ca877f61e"
      },
      "execution_count": null,
      "outputs": [
        {
          "output_type": "stream",
          "name": "stdout",
          "text": [
            "The give number 33 is odd.\n"
          ]
        }
      ]
    },
    {
      "cell_type": "code",
      "source": [
        "if { 'a': 34 }:\n",
        "    print('The condition evaluted to True')\n",
        "else:\n",
        "    print('The condition evaluted to False')"
      ],
      "metadata": {
        "colab": {
          "base_uri": "https://localhost:8080/"
        },
        "id": "ZuJYadbGNWZE",
        "outputId": "2bd80550-a18c-4634-b893-b6dd00b462ea"
      },
      "execution_count": null,
      "outputs": [
        {
          "output_type": "stream",
          "name": "stdout",
          "text": [
            "The condition evaluted to True\n"
          ]
        }
      ]
    },
    {
      "cell_type": "code",
      "source": [
        "if {}:\n",
        "  print(\"djhsjd\")\n",
        "else:\n",
        "  print(\"xyz\")"
      ],
      "metadata": {
        "colab": {
          "base_uri": "https://localhost:8080/"
        },
        "id": "V0XM4ugoQW5q",
        "outputId": "44786fb3-ecb3-4cbc-f21a-fce270c50ca1"
      },
      "execution_count": null,
      "outputs": [
        {
          "output_type": "stream",
          "name": "stdout",
          "text": [
            "xyz\n"
          ]
        }
      ]
    },
    {
      "cell_type": "code",
      "source": [
        "parity = \"even\" if a_number % 2 == 0 else \"odd\""
      ],
      "metadata": {
        "id": "Jvfak5dGQf1O"
      },
      "execution_count": null,
      "outputs": []
    },
    {
      "cell_type": "code",
      "source": [
        "print(\"the number is {} is {}.\" . format(a_number,parity))"
      ],
      "metadata": {
        "colab": {
          "base_uri": "https://localhost:8080/"
        },
        "id": "p7RwiwFtQnRq",
        "outputId": "321bb82d-7fb3-4b6d-9cab-f35c2611368b"
      },
      "execution_count": null,
      "outputs": [
        {
          "output_type": "stream",
          "name": "stdout",
          "text": [
            "the number is 34 is even.\n"
          ]
        }
      ]
    },
    {
      "cell_type": "code",
      "source": [
        "result = 1\n",
        "i = 1\n",
        "\n",
        "while i <=100:\n",
        "  result = result * i\n",
        "  i = i+1\n",
        "\n",
        "print(\"the factorial of 100 is {}\" . format(result))"
      ],
      "metadata": {
        "colab": {
          "base_uri": "https://localhost:8080/"
        },
        "id": "5aTPbx9mZHtf",
        "outputId": "c30379e4-eceb-404b-9207-5f950af16fea"
      },
      "execution_count": null,
      "outputs": [
        {
          "output_type": "stream",
          "name": "stdout",
          "text": [
            "the factorial of 100 is 93326215443944152681699238856266700490715968264381621468592963895217599993229915608941463976156518286253697920827223758251185210916864000000000000000000000000\n"
          ]
        }
      ]
    },
    {
      "cell_type": "code",
      "source": [
        "%%time\n",
        "\n",
        "line = \"*\"\n",
        "max_length = 10\n",
        "\n",
        "while len(line) <= max_length :\n",
        "  print(line)\n",
        "  line += \"*\"\n",
        "#print(\"1\")\n",
        "while len(line) > 0 :\n",
        "  print(line)\n",
        "  line = line[:-1]\n",
        "  #print(len(line))"
      ],
      "metadata": {
        "colab": {
          "base_uri": "https://localhost:8080/"
        },
        "id": "SzKqVS1MZkQl",
        "outputId": "6c023d6f-0df2-44d5-df8a-2615a6d41cf2"
      },
      "execution_count": null,
      "outputs": [
        {
          "output_type": "stream",
          "name": "stdout",
          "text": [
            "*\n",
            "**\n",
            "***\n",
            "****\n",
            "*****\n",
            "******\n",
            "*******\n",
            "********\n",
            "*********\n",
            "**********\n",
            "***********\n",
            "**********\n",
            "*********\n",
            "********\n",
            "*******\n",
            "******\n",
            "*****\n",
            "****\n",
            "***\n",
            "**\n",
            "*\n",
            "CPU times: user 6.04 ms, sys: 0 ns, total: 6.04 ms\n",
            "Wall time: 8.46 ms\n"
          ]
        }
      ]
    },
    {
      "cell_type": "code",
      "source": [
        "n = 5\n",
        "\n",
        "for i in range(n):\n",
        "  for j in range(n):\n",
        "    print(\"*\" , end = \" \")\n",
        "  print('')\n"
      ],
      "metadata": {
        "colab": {
          "base_uri": "https://localhost:8080/"
        },
        "id": "S_yhAdBFgv-2",
        "outputId": "cc7c6fad-0d36-469d-a935-a58011ebc93c"
      },
      "execution_count": null,
      "outputs": [
        {
          "output_type": "stream",
          "name": "stdout",
          "text": [
            "* * * * * \n",
            "* * * * * \n",
            "* * * * * \n",
            "* * * * * \n",
            "* * * * * \n"
          ]
        }
      ]
    },
    {
      "cell_type": "code",
      "source": [
        "for i in range(n):\n",
        "  for j in range(i+1):\n",
        "    print(\"*\", end = \"\")\n",
        "  print()"
      ],
      "metadata": {
        "colab": {
          "base_uri": "https://localhost:8080/"
        },
        "id": "6D081j26KlgJ",
        "outputId": "c4ea7d78-72c0-494b-b5ae-90beae3d9d5a"
      },
      "execution_count": null,
      "outputs": [
        {
          "output_type": "stream",
          "name": "stdout",
          "text": [
            "*\n",
            "**\n",
            "***\n",
            "****\n",
            "*****\n"
          ]
        }
      ]
    },
    {
      "cell_type": "code",
      "source": [
        "for i in range(n):\n",
        "  for j in range(i,n):\n",
        "    print(\"*\", end = '')\n",
        "  print()"
      ],
      "metadata": {
        "colab": {
          "base_uri": "https://localhost:8080/"
        },
        "id": "6hZGLj34PZW-",
        "outputId": "f4e4b617-e3b3-41c8-9f4f-24fffe931a4c"
      },
      "execution_count": null,
      "outputs": [
        {
          "output_type": "stream",
          "name": "stdout",
          "text": [
            "*****\n",
            "****\n",
            "***\n",
            "**\n",
            "*\n"
          ]
        }
      ]
    },
    {
      "cell_type": "code",
      "source": [
        ""
      ],
      "metadata": {
        "id": "YzgrQuZoUESu"
      },
      "execution_count": null,
      "outputs": []
    }
  ]
}